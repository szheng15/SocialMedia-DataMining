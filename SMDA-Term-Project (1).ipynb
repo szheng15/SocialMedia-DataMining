{
 "cells": [
  {
   "cell_type": "markdown",
   "metadata": {},
   "source": [
    "# *Research on Keyword using Twitter Data*\n",
    "# Wenqing Ling            SUID: 845420040\n",
    "# GuoXing Yao             SUID: 650670937\n",
    "# Sizhe Zheng              SUID: 941228736"
   ]
  },
  {
   "cell_type": "markdown",
   "metadata": {},
   "source": [
    "# 1.tweepy"
   ]
  },
  {
   "cell_type": "markdown",
   "metadata": {},
   "source": [
    "# Seems tweepy package still not fix with python 3.7\n",
    "# Here I'm using python 3.6.6 and upgrage the tweepy to the leatest version by \n",
    "# using the following command on Anaconda Prompt:\n",
    "# pip3 install --upgrade git+https://github.com/tweepy/tweepy.git"
   ]
  },
  {
   "cell_type": "code",
   "execution_count": 1,
   "metadata": {},
   "outputs": [],
   "source": [
    "# scrape raw data from Twitter by giving authorization key pairs\n",
    "\n",
    "# from tweepy import Stream\n",
    "# from tweepy import OAuthHandler\n",
    "# from tweepy.streaming import StreamListener\n",
    "# from __future__ import absolute_import, print_function\n",
    "\n",
    "# comsumer_key = 'WVtv2RK0lKcEpc4bjW7ZX276r'\n",
    "# comsumer_secret = 'PYdmwbf55hthHHcBGUNKTwoDDLeXlJITGaOV3shtCgOIjNZexb'\n",
    "# access_token = '2762799427-LfgXdY7CWUVlfVbkh9idPdPKOc2rgbVVNwOxc4k'\n",
    "# access_token_secret = '6UC2FHDR2MfLZiz6AFNWlWf597us79nOYmtLlJhj06shH'\n",
    "\n",
    "# class StdOutListener(StreamListener):\n",
    "#    def on_data(self,data):\n",
    "#        try:\n",
    "#            print(self,data)\n",
    "#            with open('TwitterAPI.csv', 'a') as f:\n",
    "#                f.write(data)\n",
    "#        except:\n",
    "#            pass\n",
    "       \n",
    "#    def on_error(self,status):\n",
    "#        print(status)\n",
    "        \n",
    "# l = StdOutListener()\n",
    "# auth = OAuthHandler(comsumer_key, comsumer_secret)\n",
    "# auth.set_access_token(access_token, access_token_secret)\n",
    "# stream = Stream(auth, l)\n",
    "# stream.filter(track=['iphone xs', 'ipad pro', 'macbook air'])"
   ]
  },
  {
   "cell_type": "code",
   "execution_count": 2,
   "metadata": {},
   "outputs": [
    {
     "name": "stderr",
     "output_type": "stream",
     "text": [
      "C:\\Users\\guoxingyao\\Anaconda3\\lib\\site-packages\\sklearn\\cross_validation.py:41: DeprecationWarning: This module was deprecated in version 0.18 in favor of the model_selection module into which all the refactored classes and functions are moved. Also note that the interface of the new CV iterators are different from that of this module. This module will be removed in 0.20.\n",
      "  \"This module will be removed in 0.20.\", DeprecationWarning)\n"
     ]
    }
   ],
   "source": [
    "# import all required packages for our project\n",
    "\n",
    "import json\n",
    "import csv\n",
    "import pandas as pd\n",
    "import matplotlib.pyplot as plt\n",
    "import pprint\n",
    "import datetime\n",
    "from mpl_toolkits.basemap import Basemap as Basemap\n",
    "from matplotlib.colors import rgb2hex\n",
    "from matplotlib.patches import Polygon\n",
    "from tkinter import *\n",
    "import numpy as np\n",
    "import collections\n",
    "from textblob import TextBlob\n",
    "\n",
    "from sklearn.tree import DecisionTreeClassifier\n",
    "import pydotplus\n",
    "from sklearn.datasets import load_iris\n",
    "from sklearn import tree\n",
    "\n",
    "\n",
    "from sklearn.cross_validation import train_test_split\n",
    "from sklearn.tree import DecisionTreeClassifier\n",
    "from sklearn.metrics import classification_report\n",
    "\n",
    "\n",
    "from sklearn.linear_model import LogisticRegression\n",
    "from sklearn.linear_model import SGDClassifier\n",
    "\n",
    "\n",
    "\n"
   ]
  },
  {
   "cell_type": "markdown",
   "metadata": {},
   "source": [
    "# 2. Data Mining"
   ]
  },
  {
   "cell_type": "code",
   "execution_count": 2,
   "metadata": {},
   "outputs": [
    {
     "name": "stdout",
     "output_type": "stream",
     "text": [
      "186623\n"
     ]
    }
   ],
   "source": [
    "# load raw data from TwitterAPI.csv file\n",
    "\n",
    "\n",
    "tweets_data_path = 'TwitterAPI.csv'\n",
    "#tweets_data_path = 'TwitterTest.txt'\n",
    "\n",
    "tweets_data = []\n",
    "tweets_file = open(tweets_data_path, \"r\")\n",
    "\n",
    "for line in tweets_file:\n",
    "    try:\n",
    "        tweet = json.loads(line)\n",
    "        tweets_data.append(tweet)\n",
    "    except:\n",
    "        continue\n",
    "# Test Purpose: ensure data is loaded\n",
    "# print (len(tweets_data))\n"
   ]
  },
  {
   "cell_type": "markdown",
   "metadata": {},
   "source": [
    "# Tweets by language"
   ]
  },
  {
   "cell_type": "code",
   "execution_count": 3,
   "metadata": {},
   "outputs": [
    {
     "data": {
      "image/png": "[encoded data removed]",
      "text/plain": [
       "<Figure size 432x288 with 1 Axes>"
      ]
     },
     "metadata": {
      "needs_background": "light"
     },
     "output_type": "display_data"
    }
   ],
   "source": [
    "# generate dictionary for top 5 languages\n",
    "\n",
    "# extract attributes of text, language and country\n",
    "tweets = pd.DataFrame()\n",
    "tweets['text'] = [x.get('text', None) for x in tweets_data]\n",
    "tweets['lang'] = [x.get('lang', None) for x in tweets_data]\n",
    "tweets['country'] = [x.get('place').get('country', None) if x.get('place', None) != None else None for x in tweets_data]\n",
    "\n",
    "# plot frequency by language\n",
    "tweets_by_lang = tweets['lang'].value_counts()\n",
    "fig, ax = plt.subplots()\n",
    "ax.tick_params(axis='x', labelsize=15)\n",
    "ax.tick_params(axis='y', labelsize=10)\n",
    "ax.set_xlabel('Languages', fontsize=15)\n",
    "ax.set_ylabel('Number of tweets' , fontsize=15)\n",
    "ax.set_title('Top 5 languages', fontsize=15, fontweight='bold')\n",
    "tweets_by_lang[:5].plot(ax=ax, kind='bar', color='red')\n",
    "#plt.savefig('top5Lang.png')\n",
    "plt.show()\n",
    "\n"
   ]
  },
  {
   "cell_type": "code",
   "execution_count": 5,
   "metadata": {},
   "outputs": [
    {
     "data": {
      "text/plain": [
       "en     88743\n",
       "ja     25851\n",
       "th     23264\n",
       "es     19186\n",
       "fr      4579\n",
       "in      3929\n",
       "pt      3853\n",
       "und     3357\n",
       "ar      3015\n",
       "ru      2940\n",
       "Name: lang, dtype: int64"
      ]
     },
     "execution_count": 5,
     "metadata": {},
     "output_type": "execute_result"
    }
   ],
   "source": [
    "# test purpose: display the top 10 languages\n",
    "tweets_by_lang[:10]"
   ]
  },
  {
   "cell_type": "markdown",
   "metadata": {},
   "source": [
    "# Tweets by country\n",
    "# 4th is '日本'(Japan) and not display correctly "
   ]
  },
  {
   "cell_type": "code",
   "execution_count": 4,
   "metadata": {},
   "outputs": [
    {
     "data": {
      "image/png": "[encoded data removed]",
      "text/plain": [
       "<Figure size 432x288 with 1 Axes>"
      ]
     },
     "metadata": {
      "needs_background": "light"
     },
     "output_type": "display_data"
    }
   ],
   "source": [
    "# generate distribution by country\n",
    "\n",
    "tweets_by_country = tweets['country'].value_counts()\n",
    "\n",
    "fig, ax = plt.subplots()\n",
    "ax.tick_params(axis='x', labelsize=15)\n",
    "ax.tick_params(axis='y', labelsize=10)\n",
    "ax.set_xlabel('Countries', fontsize=15)\n",
    "ax.set_ylabel('Number of tweets' , fontsize=15)\n",
    "ax.set_title('Top 5 countries', fontsize=15, fontweight='bold')\n",
    "tweets_by_country[:5].plot(ax=ax, kind='bar', color='blue')\n",
    "#plt.savefig('top5Country.png')\n",
    "plt.show()"
   ]
  },
  {
   "cell_type": "code",
   "execution_count": 6,
   "metadata": {},
   "outputs": [
    {
     "data": {
      "text/plain": [
       "United States                  625\n",
       "Brasil                          97\n",
       "Malaysia                        95\n",
       "日本                              92\n",
       "United Kingdom                  88\n",
       "Nigeria                         63\n",
       "Canada                          58\n",
       "France                          49\n",
       "España                          48\n",
       "Republic of the Philippines     27\n",
       "Name: country, dtype: int64"
      ]
     },
     "execution_count": 6,
     "metadata": {},
     "output_type": "execute_result"
    }
   ],
   "source": [
    "# test purpose: display tweets from the top 10 countries\n",
    "tweets_by_country[:10]"
   ]
  },
  {
   "cell_type": "markdown",
   "metadata": {},
   "source": [
    "# Rank"
   ]
  },
  {
   "cell_type": "code",
   "execution_count": 102,
   "metadata": {},
   "outputs": [
    {
     "name": "stdout",
     "output_type": "stream",
     "text": [
      "84587\n",
      "32968\n",
      "8608\n"
     ]
    },
    {
     "data": {
      "image/png": "[encoded data removed]",
      "text/plain": [
       "<Figure size 432x288 with 1 Axes>"
      ]
     },
     "metadata": {
      "needs_background": "light"
     },
     "output_type": "display_data"
    }
   ],
   "source": [
    "# Helper function: check keyword existence inside the tweets text content\n",
    "def check(x, matchWord):\n",
    "    if x is None:\n",
    "        return False\n",
    "    text = x.lower()\n",
    "    if (matchWord in text):\n",
    "        return True\n",
    "    else:\n",
    "        return False\n",
    "\n",
    "# filter raw data by keeping tuples with keywords of {iphone xs, ipad pro, macbook air} \n",
    "\n",
    "tweets['iphone xs'] = tweets['text'].apply(lambda x: check(x, 'iphone xs'))\n",
    "tweets['ipad pro'] = tweets['text'].apply(lambda x: check(x, 'ipad pro'))\n",
    "tweets['macbook air'] = tweets['text'].apply(lambda x: check(x, 'macbook air'))\n",
    "print(tweets['iphone xs'].value_counts()[True])\n",
    "print(tweets['ipad pro'].value_counts()[True])\n",
    "print(tweets['macbook air'].value_counts()[True])\n",
    "\n",
    "# plot distribution in histogram picture below\n",
    "\n",
    "prg_langs = ['Iphone Xs', 'Ipad Pro', 'Macbook Air']\n",
    "tweets_by_prg_lang = [tweets['iphone xs'].value_counts()[False], tweets['ipad pro'].value_counts()[True], tweets['macbook air'].value_counts()[True]]\n",
    "\n",
    "x_pos = list(range(len(prg_langs)))\n",
    "width = 0.3\n",
    "fig, ax = plt.subplots()\n",
    "plt.bar(x_pos, tweets_by_prg_lang, width, alpha=1, color='gold')\n",
    "\n",
    "# Setting axis labels and ticks\n",
    "ax.set_ylabel('Number of tweets', fontsize=15)\n",
    "ax.set_title('Ranking: flu vs. cough vs. fever (Raw data)', fontsize=10, fontweight='bold')\n",
    "ax.set_xticks([p + 0.4 * width for p in x_pos])\n",
    "ax.set_xticklabels(prg_langs)\n",
    "plt.grid()\n",
    "#plt.savefig('rank.png')\n",
    "plt.show()"
   ]
  },
  {
   "cell_type": "markdown",
   "metadata": {},
   "source": [
    "# 3.Geology Time Analysis"
   ]
  },
  {
   "cell_type": "code",
   "execution_count": 198,
   "metadata": {},
   "outputs": [],
   "source": [
    "# helper function: filter data by removing irrelevant attributes, keeping time of creating tweets, language, location and text\n",
    "\n",
    "def dataClean(fileName):\n",
    "    tweets_data = []\n",
    "    tweets_file = open(fileName, \"r\")\n",
    "    count = 0\n",
    "    for line in tweets_file:\n",
    "        try:\n",
    "            temp = json.loads(line)\n",
    "            if 'iPhone' in temp['text']:\n",
    "                continue\n",
    "            tweet = {}\n",
    "            #tweet['geo'] = temp['geo']\n",
    "            #tweet['id'] = temp['id']\n",
    "            #tweet['place'] = temp['place']\n",
    "            tweet['text'] = temp['text']\n",
    "            #Tweet stream problem. Can't find the key 'location'\n",
    "            tweet['location'] = temp['place']\n",
    "            tweet['timestamp_ms'] = temp['timestamp_ms']\n",
    "            tweet['lang'] = temp['lang']\n",
    "            tweets_data.append(tweet)\n",
    "            count += 1\n",
    "        except:\n",
    "            continue\n",
    "    print(len(tweets_data))\n",
    "    print(count)\n",
    "    return tweets_data\n",
    "\n",
    "# helper function: count tweets data after data cleaning\n",
    "def dataCount(path):\n",
    "    tweets_file = open(path, 'r')\n",
    "    count = 0\n",
    "    for line in tweets_file:\n",
    "        try:\n",
    "            t = json.loads(line)\n",
    "            if \"location\" in t:\n",
    "                count += 1\n",
    "        except:\n",
    "            continue\n",
    "    print(count)\n",
    "\n",
    "\n",
    "# helper function:write data after data cleaning\n",
    "def write_file(data, fileName):\n",
    "    with open(fileName, 'w') as outfile:\n",
    "        for val in data:\n",
    "            json.dump(val, outfile)\n",
    "            outfile.write('\\n')"
   ]
  },
  {
   "cell_type": "markdown",
   "metadata": {},
   "source": [
    "# Geo Analysis"
   ]
  },
  {
   "cell_type": "markdown",
   "metadata": {},
   "source": [
    "# Source code from matplotlib's github\n",
    "# https://github.com/matplotlib/basemap/blob/decfa95124dab76499734145d03b002b9db27477/examples/fillstates.py"
   ]
  },
  {
   "cell_type": "code",
   "execution_count": 204,
   "metadata": {
    "scrolled": true
   },
   "outputs": [
    {
     "name": "stdout",
     "output_type": "stream",
     "text": [
      "206243\n",
      "New Jersey 1811\n",
      "Rhode Island 200\n",
      "Massachusetts 1639\n",
      "Connecticut 775\n",
      "Maryland 1470\n",
      "New York 6396\n",
      "Delaware 108\n",
      "Florida 4760\n",
      "Ohio 2758\n",
      "Pennsylvania 2593\n",
      "Illinois 2862\n",
      "California 16744\n",
      "Hawaii 325\n",
      "Virginia 1724\n",
      "Michigan 2185\n",
      "Indiana 1475\n",
      "North Carolina 1325\n",
      "Georgia 2504\n",
      "Tennessee 1338\n",
      "New Hampshire 245\n",
      "South Carolina 716\n",
      "Louisiana 1338\n",
      "Kentucky 559\n",
      "Wisconsin 931\n",
      "Washington 1251\n",
      "Alabama 804\n",
      "Missouri 775\n",
      "Texas 8303\n",
      "West Virginia 426\n",
      "Vermont 112\n",
      "Minnesota 945\n",
      "Mississippi 540\n",
      "Iowa 470\n",
      "Arkansas 548\n",
      "Oklahoma 721\n",
      "Arizona 1888\n",
      "Colorado 1033\n",
      "Maine 244\n",
      "Oregon 1340\n",
      "Kansas 438\n",
      "Utah 367\n",
      "Nebraska 228\n",
      "Nevada 1317\n",
      "Idaho 299\n",
      "New Mexico 366\n",
      "South Dakota 87\n",
      "North Dakota 100\n",
      "Montana 108\n",
      "Wyoming 40\n",
      "Alaska 200\n",
      "geo tweets: 79731\n"
     ]
    },
    {
     "data": {
      "image/png": "[encoded data removed]",
      "text/plain": [
       "<Figure size 432x288 with 1 Axes>"
      ]
     },
     "metadata": {
      "needs_background": "light"
     },
     "output_type": "display_data"
    },
    {
     "data": {
      "image/png": "[encoded data removed]",
      "text/plain": [
       "<Figure size 432x288 with 2 Axes>"
      ]
     },
     "metadata": {
      "needs_background": "light"
     },
     "output_type": "display_data"
    }
   ],
   "source": [
    "# helper function: read json data, the cleaning data    \n",
    "def readData(file):\n",
    "    tweets_data = []\n",
    "    tweets_file = open(file, 'r')\n",
    "    for line in tweets_file:\n",
    "        try:\n",
    "            t = json.loads(line)\n",
    "            tweets_data.append(t)\n",
    "        except:\n",
    "            continue\n",
    "    print(len(tweets_data))\n",
    "    return tweets_data\n",
    "\n",
    "# helper function: plot tweets distribution of tweets density by US state\n",
    "def plotGeo(stateDict):\n",
    "    # Lambert Conformal map of lower 48 states.\n",
    "    m = Basemap(llcrnrlon=-119,llcrnrlat=22,urcrnrlon=-64,urcrnrlat=49,\n",
    "        projection='lcc',lat_1=33,lat_2=45,lon_0=-95)\n",
    "    # draw state boundaries.\n",
    "    shp_info = m.readshapefile('./st99_d00','states',drawbounds=True)\n",
    "    # choose a color for each state based on population density.\n",
    "    colors={}\n",
    "    statenames=[]\n",
    "    cmap = plt.cm.Greens # use 'hot' colormap\n",
    "    # cmap = plt.cm.coolwarm\n",
    "    vmin = 0; vmax = 14000 # set range.\n",
    "\n",
    "    for shapedict in m.states_info:\n",
    "        statename = shapedict['NAME']\n",
    "        # skip DC and Puerto Rico.\n",
    "        if statename not in ['District of Columbia','Puerto Rico']:\n",
    "            pop = stateDict[statename]\n",
    "            # calling colormap with value between 0 and 1 returns\n",
    "            # rgba value.  Invert color range (hot colors are high\n",
    "            # population), take sqrt root to spread out colors more.\n",
    "            # colors[statename] = cmap(np.sqrt((pop-vmin)/(vmax-vmin)))[:3]\n",
    "            colors[statename] = cmap(pop * 1.5/ vmax)[:3]\n",
    "        statenames.append(statename)\n",
    "    # cycle through state names, color each one.\n",
    "    ax = plt.gca() # get current axes instance\n",
    "    ATOLL_CUTOFF = 0.005\n",
    "    for ind,shapedict in enumerate(m.states_info):\n",
    "        seg = m.states[int(shapedict['SHAPENUM'] - 1)]\n",
    "        # skip DC and Puerto Rico.\n",
    "        if statenames[ind] not in ['Puerto Rico', 'District of Columbia']:\n",
    "        # Offset Alaska and Hawaii to the lower-left corner. \n",
    "            if statenames[ind] == 'Alaska':\n",
    "            # Alaska is too big. Scale it down to 35% first, then transate it. \n",
    "                seg = list([(0.30*x_y[0] + 1100000, 0.30*x_y[1]-1300000) for x_y in seg])\n",
    "            if shapedict['NAME'] == 'Hawaii' and float(shapedict['AREA']) > ATOLL_CUTOFF:\n",
    "                seg = list([(x_y1[0] + 5200000, x_y1[1]-1400000) for x_y1 in seg])\n",
    "\n",
    "            color = rgb2hex(colors[statenames[ind]]) \n",
    "            poly = Polygon(seg,facecolor=color,edgecolor='black',linewidth=.5)\n",
    "            ax.add_patch(poly)\n",
    "    sm = plt.cm.ScalarMappable(cmap=\"Greens\", norm=plt.Normalize(vmin=vmin, vmax=vmax))\n",
    "    sm.set_array([])\n",
    "    cbar = plt.colorbar(sm)\n",
    "    cbar.set_ticks([0, 3000, 6000, 9000, 14000])\n",
    "    cbar.set_ticklabels(['0', '1500', '4000', '6000', '10000 or more'])\n",
    "    # cbar.set_ticklabels(['0', '200', '500', '1000', '3600'])\n",
    "    plt.title('Filling State Polygons by Density')\n",
    "    # plt.savefig('geoDistribution.png')\n",
    "    plt.show()\n",
    "\n",
    "# helper function: geological description data for each of US states\n",
    "def getGeoDict(tweets):\n",
    "    geoTweets = []\n",
    "    geoDict = {\n",
    "    'New Jersey':  438.00,\n",
    "    'Rhode Island':   387.35,\n",
    "    'Massachusetts':   312.68,\n",
    "    'Connecticut':    271.40,\n",
    "    'Maryland':   209.23,\n",
    "    'New York':    155.18,\n",
    "    'Delaware':    154.87,\n",
    "    'Florida':     114.43,\n",
    "    'Ohio':  107.05,\n",
    "    'Pennsylvania':  105.80,\n",
    "    'Illinois':    86.27,\n",
    "    'California':  83.85,\n",
    "    'Hawaii':  72.83,\n",
    "    'Virginia':    69.03,\n",
    "    'Michigan':    67.55,\n",
    "    'Indiana':    65.46,\n",
    "    'North Carolina':  63.80,\n",
    "    'Georgia':     54.59,\n",
    "    'Tennessee':   53.29,\n",
    "    'New Hampshire':   53.20,\n",
    "    'South Carolina':  51.45,\n",
    "    'Louisiana':   39.61,\n",
    "    'Kentucky':   39.28,\n",
    "    'Wisconsin':  38.13,\n",
    "    'Washington':  34.20,\n",
    "    'Alabama':     33.84,\n",
    "    'Missouri':    31.36,\n",
    "    'Texas':   30.75,\n",
    "    'West Virginia':   29.00,\n",
    "    'Vermont':     25.41,\n",
    "    'Minnesota':  23.86,\n",
    "    'Mississippi':   23.42,\n",
    "    'Iowa':  20.22,\n",
    "    'Arkansas':    19.82,\n",
    "    'Oklahoma':    19.40,\n",
    "    'Arizona':     17.43,\n",
    "    'Colorado':    16.01,\n",
    "    'Maine':  15.95,\n",
    "    'Oregon':  13.76,\n",
    "    'Kansas':  12.69,\n",
    "    'Utah':  10.50,\n",
    "    'Nebraska':    8.60,\n",
    "    'Nevada':  7.03,\n",
    "    'Idaho':   6.04,\n",
    "    'New Mexico':  5.79,\n",
    "    'South Dakota':  3.84,\n",
    "    'North Dakota':  3.59,\n",
    "    'Montana':     2.39,\n",
    "    'Wyoming':      1.96,\n",
    "    'Alaska':     0.42}\n",
    "    for key in geoDict:\n",
    "        geoDict[key] = 0\n",
    "    for tweet in tweets:\n",
    "        if tweet['location']['country'] == \"United States\":\n",
    "            if 'state' in tweet['location']:\n",
    "                if tweet['location']['state'] in geoDict:\n",
    "                    geoDict[tweet['location']['state']] += 1\n",
    "                    geoTweets.append(tweet)\n",
    "    return geoDict, geoTweets\n",
    "\n",
    "# helper function:calculate the geological graph with tweets distribution information\n",
    "def geoExp(dataPath = 'cleanData.json'):\n",
    "    tweets = readData(dataPath)\n",
    "    geoDict, geoTweets = getGeoDict(tweets)\n",
    "    vmin = 0\n",
    "    vmax = 0\n",
    "    for key in geoDict:\n",
    "        print(key, geoDict[key])\n",
    "        if geoDict[key] > vmax:\n",
    "            vmax = geoDict[key]\n",
    "    # print vmax\n",
    "    print('geo tweets:', np.sum([geoDict[key] for key in geoDict]))\n",
    "    plotGeoDict(geoDict)\n",
    "    plotGeo(geoDict)\n",
    "\n",
    "# helper function: plot geological graph by tweets distribution by US state   \n",
    "def plotGeoDict(dataDict):\n",
    "    od = collections.OrderedDict(sorted(dataDict.items()))\n",
    "    plt.bar(list(range(len(list(od.keys())))), list(od.values()), 0.8, color='g')\n",
    "    plt.xticks(list(range(len(list(od.keys())))), list(od.keys()), rotation='vertical')\n",
    "    plt.rc('xtick', labelsize=10)\n",
    "    plt.title('geo distribution')\n",
    "    # plt.savefig('geoDict.png')\n",
    "    plt.show()\n",
    "    \n",
    "geoExp()"
   ]
  },
  {
   "cell_type": "markdown",
   "metadata": {},
   "source": [
    "# Time Analysis"
   ]
  },
  {
   "cell_type": "code",
   "execution_count": 203,
   "metadata": {},
   "outputs": [
    {
     "name": "stdout",
     "output_type": "stream",
     "text": [
      "206243\n"
     ]
    },
    {
     "data": {
      "image/png": "[encoded data removed]",
      "text/plain": [
       "<Figure size 432x288 with 1 Axes>"
      ]
     },
     "metadata": {
      "needs_background": "light"
     },
     "output_type": "display_data"
    },
    {
     "data": {
      "image/png": "[encoded data removed]",
      "text/plain": [
       "<Figure size 432x288 with 1 Axes>"
      ]
     },
     "metadata": {
      "needs_background": "light"
     },
     "output_type": "display_data"
    },
    {
     "data": {
      "image/png": "[encoded data removed]",
      "text/plain": [
       "<Figure size 432x288 with 1 Axes>"
      ]
     },
     "metadata": {
      "needs_background": "light"
     },
     "output_type": "display_data"
    },
    {
     "data": {
      "image/png": "[encoded data removed]",
      "text/plain": [
       "<Figure size 432x288 with 1 Axes>"
      ]
     },
     "metadata": {
      "needs_background": "light"
     },
     "output_type": "display_data"
    },
    {
     "data": {
      "image/png": "[encoded data removed]",
      "text/plain": [
       "<Figure size 432x288 with 1 Axes>"
      ]
     },
     "metadata": {
      "needs_background": "light"
     },
     "output_type": "display_data"
    },
    {
     "data": {
      "image/png": "[encoded data removed]",
      "text/plain": [
       "<Figure size 432x288 with 1 Axes>"
      ]
     },
     "metadata": {
      "needs_background": "light"
     },
     "output_type": "display_data"
    },
    {
     "data": {
      "image/png": "[encoded data removed]",
      "text/plain": [
       "<Figure size 432x288 with 1 Axes>"
      ]
     },
     "metadata": {
      "needs_background": "light"
     },
     "output_type": "display_data"
    },
    {
     "data": {
      "image/png": "[encoded data removed]",
      "text/plain": [
       "<Figure size 432x288 with 1 Axes>"
      ]
     },
     "metadata": {
      "needs_background": "light"
     },
     "output_type": "display_data"
    },
    {
     "data": {
      "image/png": "[encoded data removed]",
      "text/plain": [
       "<Figure size 432x288 with 1 Axes>"
      ]
     },
     "metadata": {
      "needs_background": "light"
     },
     "output_type": "display_data"
    },
    {
     "data": {
      "image/png": "[encoded data removed]",
      "text/plain": [
       "<Figure size 432x288 with 1 Axes>"
      ]
     },
     "metadata": {
      "needs_background": "light"
     },
     "output_type": "display_data"
    }
   ],
   "source": [
    "# helper function: load data and accumulate distribution by time intervals of date and hour\n",
    "def getTimeDict(dataPath = 'cleanData.json'):\n",
    "    tweets = readData(dataPath)\n",
    "    geoDict, tweets = getGeoDict(tweets)\n",
    "    dateDict = {}\n",
    "    hourDict = {}\n",
    "    for i in range(len(tweets)):\n",
    "        date = datetime.datetime.fromtimestamp(int(tweets[i]['timestamp_ms']) / 1000).strftime('%m-%d')\n",
    "        hour = datetime.datetime.fromtimestamp(int(tweets[i]['timestamp_ms']) / 1000).strftime('%m-%d-%H')\n",
    "        if date in dateDict:\n",
    "            dateDict[date] += 1\n",
    "        else:\n",
    "            dateDict[date] = 1\n",
    "        if date not in hourDict:\n",
    "            hourDict[date] = {}\n",
    "            hourDict[date][hour] = 1\n",
    "        else:\n",
    "            if hour not in hourDict[date]:\n",
    "                hourDict[date][hour] = 1\n",
    "            else:\n",
    "                hourDict[date][hour] += 1\n",
    "    return dateDict, hourDict\n",
    "\n",
    "# helper function:plot the time series for interval of date and hour\n",
    "def plotTimeDict(dataDict):\n",
    "    od = collections.OrderedDict(sorted(dataDict.items()))\n",
    "    plt.bar(list(range(len(list(od.keys())))), list(od.values()), 0.5, color='g')\n",
    "    plt.xticks(list(range(len(list(od.keys())))), [val[-2:] for val in list(od.keys())])\n",
    "    plt.title(list(od.items())[0][0][:-3])\n",
    "    # plt.savefig('date_'+od.items()[0][0][:-3]+'.png')\n",
    "    plt.show()\n",
    "\n",
    "# helper function: execute time series plot\n",
    "def timeExp(dataPath = 'cleanData.json'):\n",
    "    dateDict, hourDict = getTimeDict(dataPath)\n",
    "    plotTimeDict(dateDict)\n",
    "    for key in hourDict:\n",
    "        plotTimeDict(hourDict[key])\n",
    "        \n",
    "timeExp()"
   ]
  },
  {
   "cell_type": "markdown",
   "metadata": {},
   "source": [
    "# Sentiment Analysis"
   ]
  },
  {
   "cell_type": "code",
   "execution_count": 218,
   "metadata": {},
   "outputs": [
    {
     "name": "stdout",
     "output_type": "stream",
     "text": [
      "206243\n"
     ]
    },
    {
     "data": {
      "image/png": "[encoded data removed]",
      "text/plain": [
       "<Figure size 432x288 with 2 Axes>"
      ]
     },
     "metadata": {
      "needs_background": "light"
     },
     "output_type": "display_data"
    }
   ],
   "source": [
    "# helper function: perform sentiment analysis by accumulating data\n",
    "def getSentDict(dataPath = 'cleanData.json'):\n",
    "    tweets = readData(dataPath)\n",
    "    geoDict, tweets = getGeoDict(tweets)\n",
    "    sentDict = {'positive': 0, 'negative': 0,'neutral': 0 }\n",
    "\n",
    "    for i in range(len(tweets)):\n",
    "        testimonial = TextBlob(tweets[i]['text'])\n",
    "        if testimonial.sentiment.polarity > 0.1:\n",
    "            sentDict['positive'] += 1\n",
    "        elif testimonial.sentiment.polarity < -0.1:\n",
    "            sentDict['negative'] += 1\n",
    "        else:\n",
    "            sentDict['neutral'] += 1\n",
    "    return sentDict\n",
    "\n",
    "# helper function: plot sentiment distribution\n",
    "def plotSentDict(sentDict):\n",
    "    f, axarr = plt.subplots(1,2)\n",
    "    axarr[0].bar(list(range(len(list(sentDict.keys())))), list(sentDict.values()), 0.5, color='blue')\n",
    "    axarr[0].set_xticks(list(range(len(list(sentDict.keys())))))\n",
    "    axarr[0].set_xticklabels(list(sentDict.keys()))\n",
    "    axarr[0].set_title('polarity')\n",
    "    axarr[1].pie([sentDict[key] for key in sentDict], labels=[key for key in sentDict], autopct='%1.1f%%')\n",
    "    axarr[1].axis('equal')\n",
    "    plt.suptitle('sentiment analysis')\n",
    "    # plt.savefig('sentiment.png')\n",
    "    plt.show()\n",
    "    \n",
    "# helper functin: call sentiment functions\n",
    "def sentExp():\n",
    "    sentDict = getSentDict()\n",
    "    plotSentDict(sentDict)\n",
    "\n",
    "    \n",
    "sentExp()"
   ]
  },
  {
   "cell_type": "code",
   "execution_count": 3,
   "metadata": {},
   "outputs": [],
   "source": [
    "\n",
    "\n",
    "\n",
    "\n",
    "# Helper function: read raw data, cleaning data, a bit different from previous one\n",
    "# it accepts the path indicating file name\n",
    "\n",
    "\n",
    "def getDataforDT(tweets_data_path = 'TwitterAPI.csv'):\n",
    "    # helper variable \n",
    "    tweets_data = []\n",
    "    tweets_file = open(tweets_data_path, \"r\")\n",
    "\n",
    "    for line in tweets_file:\n",
    "        try:\n",
    "            tweet = json.loads(line)\n",
    "            tweets_data.append(tweet)\n",
    "        except:\n",
    "            continue\n",
    "    \n",
    "    # helper variables as dictionary\n",
    "    count=0\n",
    "    country=[]\n",
    "    languages=[]\n",
    "    preferences=[]\n",
    "    \n",
    "    # prepare preference values\n",
    "    for i in range(len(tweets_data)):\n",
    "        location = tweets_data[i].get('place')\n",
    "        if location is not None :\n",
    "            country.append(location['country_code'])\n",
    "            languages.append(tweets_data[i].get('lang'))\n",
    "            testimonial = TextBlob(tweets_data[i]['text'])\n",
    "            if testimonial.sentiment.polarity > 0.1:\n",
    "                preferences.append('positve')\n",
    "            elif testimonial.sentiment.polarity < -0.1:\n",
    "                preferences.append('negative')\n",
    "            else:\n",
    "                preferences.append('neutral')\n",
    "\n",
    "    # prepare result data\n",
    "#     print(len(country),len(preferences),len(languages))\n",
    "    tweets = pd.DataFrame()\n",
    "    tweets['country']=country\n",
    "    tweets['lang']=languages\n",
    "    tweets['preference']=preferences\n",
    "    tweets.head()\n",
    "    return tweets\n",
    "\n",
    "tweets = getDataforDT()\n"
   ]
  },
  {
   "cell_type": "markdown",
   "metadata": {},
   "source": [
    "# Decision Tree Analysis by relabeling\n",
    "# need graphviz package"
   ]
  },
  {
   "cell_type": "code",
   "execution_count": 4,
   "metadata": {},
   "outputs": [],
   "source": [
    "# There is an issue that when labeling categorial data, more columns are generate, \n",
    "# making the tree3.png not readable.\n",
    "\n",
    "\n",
    "\n",
    "\n",
    "# helper function: accepts tweets data, rename and product dataframe\n",
    "def DTLCleaning(tweets):\n",
    "    data = pd.DataFrame()\n",
    "    data['country'] = tweets['country']\n",
    "    data['language'] = tweets['lang']\n",
    "    data['preference'] = tweets['preference']\n",
    "    return data\n",
    "\n",
    "# helper function: generate decision tree image after relabeling\n",
    "def DTL(data, img_name=\"decision_tree_relab.png\"):\n",
    "    clf = tree.DecisionTreeClassifier()\n",
    "    one_hot_data = pd.get_dummies(data[['country','language']],drop_first=True)\n",
    "    clf = clf.fit(one_hot_data, data['preference'])\n",
    "\n",
    "    # Visualize data\n",
    "    dot_data = tree.export_graphviz(clf,\n",
    "                                    out_file=None,\n",
    "                                    filled=True,\n",
    "                                    rounded=True)\n",
    "    graph = pydotplus.graph_from_dot_data(dot_data)\n",
    "\n",
    "    edges = collections.defaultdict(list)\n",
    "\n",
    "    for edge in graph.get_edge_list():\n",
    "        edges[edge.get_source()].append(int(edge.get_destination()))\n",
    "\n",
    "    for edge in edges:\n",
    "        edges[edge].sort()    \n",
    "        for i in range(2):\n",
    "            dest = graph.get_node(str(edges[edge][i]))[0]\n",
    "\n",
    "    graph.write_png(img_name)\n",
    "\n",
    "# call functions\n",
    "data = DTLCleaning(tweets)\n",
    "DTL(data,\"decision_tree_relabel.png\")"
   ]
  },
  {
   "cell_type": "markdown",
   "metadata": {},
   "source": [
    "# Decision Tree Accuracy for Relabeling"
   ]
  },
  {
   "cell_type": "code",
   "execution_count": 5,
   "metadata": {},
   "outputs": [
    {
     "name": "stdout",
     "output_type": "stream",
     "text": [
      "             precision    recall  f1-score   support\n",
      "\n",
      "   positive       0.00      0.00      0.00         0\n",
      "   negative       0.97      0.77      0.86       448\n",
      "    neutral       0.09      0.39      0.14        18\n",
      "\n",
      "avg / total       0.94      0.75      0.83       466\n",
      "\n"
     ]
    },
    {
     "name": "stderr",
     "output_type": "stream",
     "text": [
      "C:\\Users\\guoxingyao\\Anaconda3\\lib\\site-packages\\sklearn\\metrics\\classification.py:1137: UndefinedMetricWarning: Recall and F-score are ill-defined and being set to 0.0 in labels with no true samples.\n",
      "  'recall', 'true', average, warn_for)\n"
     ]
    }
   ],
   "source": [
    "# use cross validation to split data into test and train sets\n",
    "\n",
    "\n",
    "#helper function:cross validation for decision tree after relabeling\n",
    "def DTCVL(data):\n",
    "    one_hot_data = pd.get_dummies(data[['country','language']],drop_first=True)\n",
    "    x_train, x_test, y_train, y_test = train_test_split(one_hot_data, data['preference'], test_size=0.25, random_state=33)\n",
    "    dtc = DecisionTreeClassifier()\n",
    "    dtc.fit(x_train, y_train)\n",
    "    y_predict = dtc.predict(x_test)\n",
    "\n",
    "\n",
    "    # use classification report to show the accuracy, precisio, recall, f1-score\n",
    "\n",
    "#     print(dtc.score(x_test, y_test))\n",
    "    print(classification_report(y_predict, y_test,target_names=['positive','negative','neutral']))\n",
    "\n",
    "    \n",
    "DTCVL(data)"
   ]
  },
  {
   "cell_type": "markdown",
   "metadata": {},
   "source": [
    "# Decision Tree Model by Factorizing"
   ]
  },
  {
   "cell_type": "code",
   "execution_count": 7,
   "metadata": {},
   "outputs": [
    {
     "name": "stdout",
     "output_type": "stream",
     "text": [
      "Max Depth: 3\n",
      "File Name: dt0.png\n"
     ]
    }
   ],
   "source": [
    "\n",
    "\n",
    "\n",
    "\n",
    "#helper function: convert data from category data to numeric data by factorizing, rather than relabel\n",
    "def DTCCleaning():\n",
    "    data = pd.DataFrame()\n",
    "    data['country'] = pd.factorize(tweets['country'])[0]\n",
    "    data['language'] = pd.factorize(tweets['lang'])[0]\n",
    "    data['preference'] = tweets['preference']\n",
    "    return data\n",
    "\n",
    "# helper function: get decision tree img, data from factorizing\n",
    "def DTC(md):\n",
    "    clf = tree.DecisionTreeClassifier(max_depth=md)\n",
    "\n",
    "#     one_hot_data = pd.get_dummies(data[['A','B']],drop_first=True)\n",
    "    one_hot_data = DTCCleaning()\n",
    "    clf = clf.fit(one_hot_data[['country','language']], one_hot_data['preference'])\n",
    "\n",
    "    # Visualize data\n",
    "    dot_data = tree.export_graphviz(clf,\n",
    "                                    feature_names=['country','language'],\n",
    "                                    out_file=None,\n",
    "                                    filled=True,\n",
    "                                    rounded=True)\n",
    "    graph = pydotplus.graph_from_dot_data(dot_data)\n",
    "\n",
    "    # colors = ('turquoise', 'orange')\n",
    "    edges = collections.defaultdict(list)\n",
    "\n",
    "    for edge in graph.get_edge_list():\n",
    "        edges[edge.get_source()].append(int(edge.get_destination()))\n",
    "\n",
    "    for edge in edges:\n",
    "        edges[edge].sort()    \n",
    "        for i in range(2):\n",
    "            dest = graph.get_node(str(edges[edge][i]))[0]\n",
    "    #         dest.set_fillcolor(colors[i])\n",
    "\n",
    "    graph.write_png(\"dt.factorization.png\")\n",
    "    \n",
    "    \n",
    "#call the DTC method\n",
    "# DTC(tweets,\"decision_tree_0.png\")\n",
    "# helper function to call tkinder to input values\n",
    "def inputTK():\n",
    "    def show_entry_fields():\n",
    "        print(\"Max Depth: %s\\nFile Name: %s\" % (e1.get(), e2.get()))\n",
    "        DTC(int(e1.get()))\n",
    "    \n",
    "    \n",
    "    master = Tk()\n",
    "    master.title(\"Input max depth and file name\")\n",
    "    Label(master, text=\"Max Depth \").grid(row=0)\n",
    "    Label(master, text=\"File Name\").grid(row=1)\n",
    "\n",
    "    e1 = Entry(master)\n",
    "    e2 = Entry(master)\n",
    "\n",
    "    e1.grid(row=0, column=1)\n",
    "    e2.grid(row=1, column=1)\n",
    "\n",
    "    Button(master, text='Quit', command=master.destroy).grid(row=3, column=0, sticky=W, pady=4)\n",
    "    Button(master, text='Go', command=show_entry_fields).grid(row=3, column=1, sticky=W, pady=4)\n",
    "\n",
    "    mainloop()\n",
    "\n",
    "inputTK()\n"
   ]
  },
  {
   "cell_type": "markdown",
   "metadata": {},
   "source": [
    "# Decision Tree cross validation by Factorizing"
   ]
  },
  {
   "cell_type": "code",
   "execution_count": 11,
   "metadata": {},
   "outputs": [
    {
     "name": "stdout",
     "output_type": "stream",
     "text": [
      "0.7424892703862661\n",
      "             precision    recall  f1-score   support\n",
      "\n",
      "   positive       0.00      0.00      0.00         3\n",
      "   negative       0.96      0.76      0.85       444\n",
      "    neutral       0.09      0.37      0.14        19\n",
      "\n",
      "avg / total       0.92      0.74      0.82       466\n",
      "\n"
     ]
    }
   ],
   "source": [
    "# use cross validation to split data into test and train sets\n",
    "\n",
    "\n",
    "# helper function: perform decision tree cross validation by factorized data \n",
    "def DTCVF():\n",
    "    data = DTCCleaning()\n",
    "    x_train, x_test, y_train, y_test = train_test_split(data[['country','language']], data['preference'], test_size=0.25, random_state=33)\n",
    "\n",
    "    dtc = DecisionTreeClassifier()\n",
    "\n",
    "    dtc.fit(x_train, y_train)\n",
    "    y_predict = dtc.predict(x_test)\n",
    "\n",
    "\n",
    "    # use classification report to show the accuracy, precisio, recall, f1-score\n",
    "\n",
    "    print(dtc.score(x_test, y_test))\n",
    "    print(classification_report(y_predict, y_test,target_names=['positive','negative','neutral']))\n",
    "    \n",
    "DTCVF()"
   ]
  },
  {
   "cell_type": "markdown",
   "metadata": {},
   "source": [
    "# Linear Classifier Model and its cross validation result"
   ]
  },
  {
   "cell_type": "code",
   "execution_count": 13,
   "metadata": {},
   "outputs": [
    {
     "name": "stdout",
     "output_type": "stream",
     "text": [
      "Linear Classifier with Encoding Accuracy\n",
      "             precision    recall  f1-score   support\n",
      "\n",
      "   positive       0.00      0.00      0.00        34\n",
      "   negative       0.76      1.00      0.86       352\n",
      "    neutral       0.00      0.00      0.00        80\n",
      "\n",
      "avg / total       0.57      0.76      0.65       466\n",
      "\n"
     ]
    },
    {
     "name": "stderr",
     "output_type": "stream",
     "text": [
      "C:\\Users\\guoxingyao\\Anaconda3\\lib\\site-packages\\sklearn\\linear_model\\stochastic_gradient.py:128: FutureWarning: max_iter and tol parameters have been added in <class 'sklearn.linear_model.stochastic_gradient.SGDClassifier'> in 0.19. If both are left unset, they default to max_iter=5 and tol=None. If tol is not None, max_iter defaults to max_iter=1000. From 0.21, default max_iter will be 1000, and default tol will be 1e-3.\n",
      "  \"and default tol will be 1e-3.\" % type(self), FutureWarning)\n",
      "C:\\Users\\guoxingyao\\Anaconda3\\lib\\site-packages\\sklearn\\metrics\\classification.py:1135: UndefinedMetricWarning: Precision and F-score are ill-defined and being set to 0.0 in labels with no predicted samples.\n",
      "  'precision', 'predicted', average, warn_for)\n"
     ]
    }
   ],
   "source": [
    "\n",
    "\n",
    "\n",
    "# helper function: use SGD Classifier to predict their preferences. It is based on relabeling data set\n",
    "def DTCV(data):\n",
    "    x_train, x_test, y_train, y_test = train_test_split(data[['country','language']],data['preference'],test_size=0.25, random_state=33)\n",
    "    lr = LogisticRegression()\n",
    "    sgdc = SGDClassifier()\n",
    "    lr.fit(x_train, y_train)\n",
    "    lr_y_predict = lr.predict(x_test)\n",
    "    sgdc.fit(x_train, y_train)\n",
    "    sgdc_y_predict= sgdc.predict(x_test)\n",
    "    print('Linear Classifier with Encoding Accuracy')\n",
    "    print(classification_report(y_test,lr_y_predict, target_names=['positive','negative','neutral']))\n",
    "\n",
    "\n",
    "data = DTCCleaning()\n",
    "DTCV(data)\n"
   ]
  },
  {
   "cell_type": "code",
   "execution_count": null,
   "metadata": {},
   "outputs": [],
   "source": []
  }
 ],
 "metadata": {
  "kernelspec": {
   "display_name": "Python 3",
   "language": "python",
   "name": "python3"
  },
  "language_info": {
   "codemirror_mode": {
    "name": "ipython",
    "version": 3
   },
   "file_extension": ".py",
   "mimetype": "text/x-python",
   "name": "python",
   "nbconvert_exporter": "python",
   "pygments_lexer": "ipython3",
   "version": "3.7.0"
  }
 },
 "nbformat": 4,
 "nbformat_minor": 2
}
